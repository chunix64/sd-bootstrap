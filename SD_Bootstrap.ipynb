{
  "nbformat": 4,
  "nbformat_minor": 0,
  "metadata": {
    "colab": {
      "provenance": [],
      "gpuType": "T4",
      "collapsed_sections": [
        "DfQHb1Vv8nqA",
        "PwSODCVN9Fnx",
        "TVDzUV0VEj0i",
        "8CRlzzOrLj4D"
      ]
    },
    "kernelspec": {
      "name": "python3",
      "display_name": "Python 3"
    },
    "language_info": {
      "name": "python"
    },
    "accelerator": "GPU"
  },
  "cells": [
    {
      "cell_type": "markdown",
      "source": [
        "## Automatic1111 SD - Chunix64 Script"
      ],
      "metadata": {
        "id": "vALKZeblI9kf"
      }
    },
    {
      "cell_type": "markdown",
      "source": [
        "\n",
        "\n",
        "---\n",
        "\n",
        "\n",
        "# ⚙ **_`Setup`_**\n",
        "\n",
        "\n"
      ],
      "metadata": {
        "id": "DfQHb1Vv8nqA"
      }
    },
    {
      "cell_type": "markdown",
      "source": [],
      "metadata": {
        "id": "IBdyWOh8ERoo"
      }
    },
    {
      "cell_type": "code",
      "execution_count": null,
      "metadata": {
        "id": "OJ8OrnFw45xW",
        "cellView": "form"
      },
      "outputs": [],
      "source": [
        "#@title Mount Drive\n",
        "from google.colab import drive\n",
        "drive.mount('/content/drive')\n",
        "!mkdir /content/drive/MyDrive/colab_env\n",
        "%cd /content/drive/MyDrive/colab_env"
      ]
    },
    {
      "cell_type": "code",
      "source": [
        "#@title Setup Variables\n",
        "import base64\n",
        "\n",
        "blsaphemy=base64.b64decode((\"ZWJ1aQ==\").encode('ascii')).decode('ascii')\n",
        "envdir=\"/content/fakeEnv\"\n",
        "\n",
        "!mkdir /content/drive/MyDrive/colab_env/sd-models/localizations"
      ],
      "metadata": {
        "id": "tvfjH05SIVir",
        "cellView": "form"
      },
      "execution_count": null,
      "outputs": []
    },
    {
      "cell_type": "code",
      "source": [
        "#@title Clone Repository\n",
        "%cd /content/drive/MyDrive/colab_env\n",
        "#!git clone https://github.com/AUTOMATIC1111/stable-diffusion-w$blsaphemy\n",
        "!git clone https://github.com/chunix64/stable-diffusion-w$blsaphemy"
      ],
      "metadata": {
        "id": "o2zyGgpHIvEv",
        "cellView": "form"
      },
      "execution_count": null,
      "outputs": []
    },
    {
      "cell_type": "code",
      "source": [
        "#@title Clone Extra Repository\n",
        "%cd /content/drive/MyDrive/colab_env/stable-diffusion-w$blsaphemy\n",
        "!mkdir repositories\n",
        "%cd /content/drive/MyDrive/colab_env/stable-diffusion-w$blsaphemy/repositories\n",
        "!git clone https://github.com/chunix64/stable-diffusion-stability-ai\n",
        "!git clone https://github.com/Stability-AI/generative-models\n",
        "!git clone https://github.com/salesforce/BLIP\n",
        "!git clone https://github.com/crowsonkb/k-diffusion\n",
        "!git clone https://github.com/AUTOMATIC1111/stable-diffusion-webui-assets\n",
        "%cd /content/drive/MyDrive/colab_env/"
      ],
      "metadata": {
        "id": "xnEssjElNyON",
        "cellView": "form"
      },
      "execution_count": null,
      "outputs": []
    },
    {
      "cell_type": "code",
      "source": [
        "#@title Setup Virtual env\n",
        "!pip install virtualenv\n",
        "!mkdir $envdir\n",
        "!cd $envdir && virtualenv pyenv"
      ],
      "metadata": {
        "id": "shVNpi5JLJy8",
        "cellView": "form"
      },
      "execution_count": null,
      "outputs": []
    },
    {
      "cell_type": "code",
      "source": [
        "#@title Install Requirements\n",
        "%cd /content/drive/MyDrive/colab_env/stable-diffusion-w$blsaphemy\n",
        "!$envdir/pyenv/bin/pip install pydantic==1.10.11 open-clip-torch==2.24.0\n",
        "!$envdir/pyenv/bin/pip install dctorch clip xformers ipykernel flash-attn python-dotenv colorama\n",
        "!$envdir/pyenv/bin/pip install -r requirements.txt\n",
        "!$envdir/pyenv/bin/pip install -r requirements_versions.txt"
      ],
      "metadata": {
        "id": "cwZNh271KHRF",
        "cellView": "form"
      },
      "execution_count": null,
      "outputs": []
    },
    {
      "cell_type": "markdown",
      "source": [
        "\n",
        "\n",
        "---\n",
        "\n",
        "\n",
        "# ▶ **_`Start`_**"
      ],
      "metadata": {
        "id": "PwSODCVN9Fnx"
      }
    },
    {
      "cell_type": "code",
      "source": [
        "#@title Pre-start\n",
        "import base64\n",
        "\n",
        "blsaphemy=base64.b64decode((\"ZWJ1aQ==\").encode('ascii')).decode('ascii')\n",
        "envdir=\"/content/fakeEnv\" #@param {type:\"string\"}\n",
        "civitaiToken=\"b1ade9470fe14c7b954546f6e3ab066f\" #@param {type:\"string\"}\n",
        "\n",
        "\n",
        "# Fix end character is slash or backslash\n",
        "if envdir[-1] == \"/\" or envdir[-1] == \"\\\\\":\n",
        "  envdir = envdir[:-1]\n",
        "\n",
        "#!pip install virtualenv\n",
        "#!mkdir $envdir\n",
        "#!cd $envdir && virtualenv pyenv"
      ],
      "metadata": {
        "colab": {
          "base_uri": "https://localhost:8080/"
        },
        "id": "-I15tdcOBi5_",
        "outputId": "7680c172-d693-43bf-fefb-c0f3fd4085c6"
      },
      "execution_count": null,
      "outputs": [
        {
          "output_type": "stream",
          "name": "stdout",
          "text": [
            "/content/fakeEnv\n"
          ]
        }
      ]
    },
    {
      "cell_type": "code",
      "source": [
        "#@title Start SD\n",
        "%cd /content/drive/MyDrive/colab_env/stable-diffusion-w$blsaphemy\n",
        "!source $envdir/pyenv/bin/activate; python webui.py --share --api --disable-safe-unpickle --enable-insecure-extension-access --no-download-sd-model --no-half-vae --xformers --disable-console-progressbars --skip-version-check --ckpt-dir /content/drive/MyDrive/colab_env/sd-models/Stable-diffusion --lora-dir /content/drive/MyDrive/colab_env/sd-models/Lora --vae-dir /content/drive/MyDrive/colab_env/sd-models/Vae --embeddings-dir /content/drive/MyDrive/colab_env/sd-models/embeddings --hypernetwork-dir /content/drive/MyDrive/colab_env/sd-models/hypernetwork --localizations-dir /content/drive/MyDrive/colab_env/sd-models/localizations"
      ],
      "metadata": {
        "id": "m_i_7rgZKnjB"
      },
      "execution_count": null,
      "outputs": []
    },
    {
      "cell_type": "markdown",
      "source": [
        "\n",
        "\n",
        "---\n",
        "\n",
        "\n",
        "# 🔧 **_`Install Checkpoint &\\ Lora`_**"
      ],
      "metadata": {
        "id": "TVDzUV0VEj0i"
      }
    },
    {
      "cell_type": "code",
      "source": [
        "#@title Install Checkpoints\n",
        "#@markdown Civitai link and direct download link only\n",
        "isCivitai = False #@param {type:\"boolean\"}\n",
        "checkpointURL= \"https://civitai.com/api/download/models/1239062\" #@param {type:\"string\"}\n",
        "if isCivitai:\n",
        "  if \"?\" in checkpointURL:\n",
        "    checkpointURL += \"&token=\"\n",
        "  else:\n",
        "    checkpointURL += \"?token=\"\n",
        "  checkpointURL += civitaiToken;\n",
        "\n",
        "!cd /content/drive/MyDrive/colab_env/sd-models/Stable-diffusion && wget $checkpointURL --content-disposition"
      ],
      "metadata": {
        "id": "motA321Yg3aN",
        "cellView": "form"
      },
      "execution_count": null,
      "outputs": []
    },
    {
      "cell_type": "markdown",
      "source": [
        "\n",
        "\n",
        "---\n",
        "\n",
        "\n",
        "# 📚 **_`Document`_**"
      ],
      "metadata": {
        "id": "8CRlzzOrLj4D"
      }
    },
    {
      "cell_type": "markdown",
      "source": [
        "Get update and bug report in: https://github.com/chunix64/sd-bootstrap"
      ],
      "metadata": {
        "id": "aQqhFCDcMfnt"
      }
    },
    {
      "cell_type": "markdown",
      "source": [
        "---\n",
        "<p align=\"center\">SD-Bootstrap <b>V1.0.0</b></p>"
      ],
      "metadata": {
        "id": "BVL10HYDOsmK"
      }
    }
  ]
}
